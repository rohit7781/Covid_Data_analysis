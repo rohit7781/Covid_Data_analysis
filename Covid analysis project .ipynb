{
 "cells": [
  {
   "cell_type": "code",
   "execution_count": 1,
   "id": "0ca6c225",
   "metadata": {},
   "outputs": [],
   "source": [
    "import pandas as pd\n",
    "import numpy as np\n",
    "import matplotlib.pyplot as plt\n",
    "import seaborn as sns\n",
    "from matplotlib.pyplot import figure"
   ]
  },
  {
   "cell_type": "code",
   "execution_count": 2,
   "id": "003bcab1",
   "metadata": {},
   "outputs": [],
   "source": [
    "df = pd.read_csv('covid_19_india.csv')"
   ]
  },
  {
   "cell_type": "code",
   "execution_count": 3,
   "id": "12ff4bf6",
   "metadata": {},
   "outputs": [
    {
     "data": {
      "text/html": [
       "<div>\n",
       "<style scoped>\n",
       "    .dataframe tbody tr th:only-of-type {\n",
       "        vertical-align: middle;\n",
       "    }\n",
       "\n",
       "    .dataframe tbody tr th {\n",
       "        vertical-align: top;\n",
       "    }\n",
       "\n",
       "    .dataframe thead th {\n",
       "        text-align: right;\n",
       "    }\n",
       "</style>\n",
       "<table border=\"1\" class=\"dataframe\">\n",
       "  <thead>\n",
       "    <tr style=\"text-align: right;\">\n",
       "      <th></th>\n",
       "      <th>Sno</th>\n",
       "      <th>Date</th>\n",
       "      <th>Time</th>\n",
       "      <th>State</th>\n",
       "      <th>Cured</th>\n",
       "      <th>Deaths</th>\n",
       "      <th>Confirmed</th>\n",
       "    </tr>\n",
       "  </thead>\n",
       "  <tbody>\n",
       "    <tr>\n",
       "      <th>0</th>\n",
       "      <td>1</td>\n",
       "      <td>30-01-2020</td>\n",
       "      <td>6:00 PM</td>\n",
       "      <td>Kerala</td>\n",
       "      <td>0</td>\n",
       "      <td>0</td>\n",
       "      <td>1</td>\n",
       "    </tr>\n",
       "    <tr>\n",
       "      <th>1</th>\n",
       "      <td>2</td>\n",
       "      <td>31-01-2020</td>\n",
       "      <td>6:00 PM</td>\n",
       "      <td>Kerala</td>\n",
       "      <td>0</td>\n",
       "      <td>0</td>\n",
       "      <td>1</td>\n",
       "    </tr>\n",
       "    <tr>\n",
       "      <th>2</th>\n",
       "      <td>3</td>\n",
       "      <td>01-02-2020</td>\n",
       "      <td>6:00 PM</td>\n",
       "      <td>Kerala</td>\n",
       "      <td>0</td>\n",
       "      <td>0</td>\n",
       "      <td>2</td>\n",
       "    </tr>\n",
       "    <tr>\n",
       "      <th>3</th>\n",
       "      <td>4</td>\n",
       "      <td>02-02-2020</td>\n",
       "      <td>6:00 PM</td>\n",
       "      <td>Kerala</td>\n",
       "      <td>0</td>\n",
       "      <td>0</td>\n",
       "      <td>3</td>\n",
       "    </tr>\n",
       "    <tr>\n",
       "      <th>4</th>\n",
       "      <td>5</td>\n",
       "      <td>03-02-2020</td>\n",
       "      <td>6:00 PM</td>\n",
       "      <td>Kerala</td>\n",
       "      <td>0</td>\n",
       "      <td>0</td>\n",
       "      <td>3</td>\n",
       "    </tr>\n",
       "  </tbody>\n",
       "</table>\n",
       "</div>"
      ],
      "text/plain": [
       "   Sno        Date     Time   State  Cured  Deaths  Confirmed\n",
       "0    1  30-01-2020  6:00 PM  Kerala      0       0          1\n",
       "1    2  31-01-2020  6:00 PM  Kerala      0       0          1\n",
       "2    3  01-02-2020  6:00 PM  Kerala      0       0          2\n",
       "3    4  02-02-2020  6:00 PM  Kerala      0       0          3\n",
       "4    5  03-02-2020  6:00 PM  Kerala      0       0          3"
      ]
     },
     "execution_count": 3,
     "metadata": {},
     "output_type": "execute_result"
    }
   ],
   "source": [
    "df.head()"
   ]
  },
  {
   "cell_type": "code",
   "execution_count": 4,
   "id": "87c92fb4",
   "metadata": {},
   "outputs": [
    {
     "name": "stdout",
     "output_type": "stream",
     "text": [
      "<class 'pandas.core.frame.DataFrame'>\n",
      "RangeIndex: 18110 entries, 0 to 18109\n",
      "Data columns (total 7 columns):\n",
      " #   Column     Non-Null Count  Dtype \n",
      "---  ------     --------------  ----- \n",
      " 0   Sno        18110 non-null  int64 \n",
      " 1   Date       18110 non-null  object\n",
      " 2   Time       18110 non-null  object\n",
      " 3   State      18110 non-null  object\n",
      " 4   Cured      18110 non-null  int64 \n",
      " 5   Deaths     18110 non-null  int64 \n",
      " 6   Confirmed  18110 non-null  int64 \n",
      "dtypes: int64(4), object(3)\n",
      "memory usage: 990.5+ KB\n"
     ]
    }
   ],
   "source": [
    "df.info()"
   ]
  },
  {
   "cell_type": "code",
   "execution_count": 5,
   "id": "76fb8600",
   "metadata": {},
   "outputs": [
    {
     "data": {
      "text/plain": [
       "Sno          0\n",
       "Date         0\n",
       "Time         0\n",
       "State        0\n",
       "Cured        0\n",
       "Deaths       0\n",
       "Confirmed    0\n",
       "dtype: int64"
      ]
     },
     "execution_count": 5,
     "metadata": {},
     "output_type": "execute_result"
    }
   ],
   "source": [
    "df.isnull().sum()"
   ]
  },
  {
   "cell_type": "code",
   "execution_count": 6,
   "id": "436d6da3",
   "metadata": {},
   "outputs": [
    {
     "data": {
      "text/html": [
       "<div>\n",
       "<style scoped>\n",
       "    .dataframe tbody tr th:only-of-type {\n",
       "        vertical-align: middle;\n",
       "    }\n",
       "\n",
       "    .dataframe tbody tr th {\n",
       "        vertical-align: top;\n",
       "    }\n",
       "\n",
       "    .dataframe thead th {\n",
       "        text-align: right;\n",
       "    }\n",
       "</style>\n",
       "<table border=\"1\" class=\"dataframe\">\n",
       "  <thead>\n",
       "    <tr style=\"text-align: right;\">\n",
       "      <th></th>\n",
       "      <th>Sno</th>\n",
       "      <th>Date</th>\n",
       "      <th>Time</th>\n",
       "      <th>State</th>\n",
       "      <th>Cured</th>\n",
       "      <th>Deaths</th>\n",
       "      <th>Confirmed</th>\n",
       "    </tr>\n",
       "  </thead>\n",
       "  <tbody>\n",
       "    <tr>\n",
       "      <th>18105</th>\n",
       "      <td>18106</td>\n",
       "      <td>11-08-2021</td>\n",
       "      <td>8:00 AM</td>\n",
       "      <td>Telangana</td>\n",
       "      <td>638410</td>\n",
       "      <td>3831</td>\n",
       "      <td>650353</td>\n",
       "    </tr>\n",
       "    <tr>\n",
       "      <th>18106</th>\n",
       "      <td>18107</td>\n",
       "      <td>11-08-2021</td>\n",
       "      <td>8:00 AM</td>\n",
       "      <td>Tripura</td>\n",
       "      <td>77811</td>\n",
       "      <td>773</td>\n",
       "      <td>80660</td>\n",
       "    </tr>\n",
       "    <tr>\n",
       "      <th>18107</th>\n",
       "      <td>18108</td>\n",
       "      <td>11-08-2021</td>\n",
       "      <td>8:00 AM</td>\n",
       "      <td>Uttarakhand</td>\n",
       "      <td>334650</td>\n",
       "      <td>7368</td>\n",
       "      <td>342462</td>\n",
       "    </tr>\n",
       "    <tr>\n",
       "      <th>18108</th>\n",
       "      <td>18109</td>\n",
       "      <td>11-08-2021</td>\n",
       "      <td>8:00 AM</td>\n",
       "      <td>Uttar Pradesh</td>\n",
       "      <td>1685492</td>\n",
       "      <td>22775</td>\n",
       "      <td>1708812</td>\n",
       "    </tr>\n",
       "    <tr>\n",
       "      <th>18109</th>\n",
       "      <td>18110</td>\n",
       "      <td>11-08-2021</td>\n",
       "      <td>8:00 AM</td>\n",
       "      <td>West Bengal</td>\n",
       "      <td>1506532</td>\n",
       "      <td>18252</td>\n",
       "      <td>1534999</td>\n",
       "    </tr>\n",
       "  </tbody>\n",
       "</table>\n",
       "</div>"
      ],
      "text/plain": [
       "         Sno        Date     Time          State    Cured  Deaths  Confirmed\n",
       "18105  18106  11-08-2021  8:00 AM      Telangana   638410    3831     650353\n",
       "18106  18107  11-08-2021  8:00 AM        Tripura    77811     773      80660\n",
       "18107  18108  11-08-2021  8:00 AM    Uttarakhand   334650    7368     342462\n",
       "18108  18109  11-08-2021  8:00 AM  Uttar Pradesh  1685492   22775    1708812\n",
       "18109  18110  11-08-2021  8:00 AM    West Bengal  1506532   18252    1534999"
      ]
     },
     "execution_count": 6,
     "metadata": {},
     "output_type": "execute_result"
    }
   ],
   "source": [
    "df.tail()"
   ]
  },
  {
   "cell_type": "code",
   "execution_count": 7,
   "id": "815f9d0c",
   "metadata": {},
   "outputs": [],
   "source": [
    "# sns.relplot(x='Date',y='Cured',kind='line',data =df)\n",
    "# plt.title('Cured vs Date')\n",
    "# figure(figsize=(8, 6), dpi=80)"
   ]
  },
  {
   "cell_type": "code",
   "execution_count": 8,
   "id": "7f21a0e5",
   "metadata": {},
   "outputs": [
    {
     "data": {
      "text/plain": [
       "Text(6.674999999999997, 0.5, 'No of cases')"
      ]
     },
     "execution_count": 8,
     "metadata": {},
     "output_type": "execute_result"
    },
    {
     "data": {
      "image/png": "[encoded data removed]",
      "text/plain": [
       "<Figure size 360x360 with 1 Axes>"
      ]
     },
     "metadata": {
      "needs_background": "light"
     },
     "output_type": "display_data"
    }
   ],
   "source": [
    "sns.relplot(x='Date',y='Confirmed',kind='line',data = df)\n",
    "plt.title('Maximum and Minimum Confirmed cases per day from State')\n",
    "plt.xlabel('Date')\n",
    "plt.ylabel('No of cases')"
   ]
  },
  {
   "cell_type": "code",
   "execution_count": 9,
   "id": "2854dc2a",
   "metadata": {},
   "outputs": [
    {
     "data": {
      "text/plain": [
       "Text(6.674999999999997, 0.5, 'No of cases')"
      ]
     },
     "execution_count": 9,
     "metadata": {},
     "output_type": "execute_result"
    },
    {
     "data": {
      "image/png": "[encoded data removed]",
      "text/plain": [
       "<Figure size 360x360 with 1 Axes>"
      ]
     },
     "metadata": {
      "needs_background": "light"
     },
     "output_type": "display_data"
    }
   ],
   "source": [
    "sns.relplot(x='Date',y='Confirmed',kind='line',data = df)\n",
    "plt.title('Confirmed cases')\n",
    "plt.xlabel('Date')\n",
    "plt.ylabel('No of cases')"
   ]
  },
  {
   "cell_type": "markdown",
   "id": "eddeafa8",
   "metadata": {},
   "source": [
    "# State wise data\n",
    "foo <font color='red'>bar</font> foo\n"
   ]
  },
  {
   "cell_type": "markdown",
   "id": "d17d2a01",
   "metadata": {},
   "source": [
    "# BIHAR"
   ]
  },
  {
   "cell_type": "code",
   "execution_count": 10,
   "id": "c0125769",
   "metadata": {},
   "outputs": [],
   "source": [
    "bihar = df.query('State == \"Bihar\"')"
   ]
  },
  {
   "cell_type": "code",
   "execution_count": 27,
   "id": "4ff9e083",
   "metadata": {},
   "outputs": [
    {
     "data": {
      "text/html": [
       "<div>\n",
       "<style scoped>\n",
       "    .dataframe tbody tr th:only-of-type {\n",
       "        vertical-align: middle;\n",
       "    }\n",
       "\n",
       "    .dataframe tbody tr th {\n",
       "        vertical-align: top;\n",
       "    }\n",
       "\n",
       "    .dataframe thead th {\n",
       "        text-align: right;\n",
       "    }\n",
       "</style>\n",
       "<table border=\"1\" class=\"dataframe\">\n",
       "  <thead>\n",
       "    <tr style=\"text-align: right;\">\n",
       "      <th></th>\n",
       "      <th>Sno</th>\n",
       "      <th>Date</th>\n",
       "      <th>Time</th>\n",
       "      <th>State</th>\n",
       "      <th>Cured</th>\n",
       "      <th>Deaths</th>\n",
       "      <th>Confirmed</th>\n",
       "    </tr>\n",
       "  </thead>\n",
       "  <tbody>\n",
       "    <tr>\n",
       "      <th>271</th>\n",
       "      <td>272</td>\n",
       "      <td>22-03-2020</td>\n",
       "      <td>6:00 PM</td>\n",
       "      <td>Bihar</td>\n",
       "      <td>0</td>\n",
       "      <td>1</td>\n",
       "      <td>2</td>\n",
       "    </tr>\n",
       "    <tr>\n",
       "      <th>294</th>\n",
       "      <td>295</td>\n",
       "      <td>23-03-2020</td>\n",
       "      <td>6:00 PM</td>\n",
       "      <td>Bihar</td>\n",
       "      <td>0</td>\n",
       "      <td>1</td>\n",
       "      <td>2</td>\n",
       "    </tr>\n",
       "    <tr>\n",
       "      <th>317</th>\n",
       "      <td>318</td>\n",
       "      <td>24-03-2020</td>\n",
       "      <td>6:00 PM</td>\n",
       "      <td>Bihar</td>\n",
       "      <td>0</td>\n",
       "      <td>1</td>\n",
       "      <td>3</td>\n",
       "    </tr>\n",
       "    <tr>\n",
       "      <th>341</th>\n",
       "      <td>342</td>\n",
       "      <td>25-03-2020</td>\n",
       "      <td>6:00 PM</td>\n",
       "      <td>Bihar</td>\n",
       "      <td>0</td>\n",
       "      <td>1</td>\n",
       "      <td>4</td>\n",
       "    </tr>\n",
       "    <tr>\n",
       "      <th>367</th>\n",
       "      <td>368</td>\n",
       "      <td>26-03-2020</td>\n",
       "      <td>6:00 PM</td>\n",
       "      <td>Bihar</td>\n",
       "      <td>0</td>\n",
       "      <td>1</td>\n",
       "      <td>6</td>\n",
       "    </tr>\n",
       "  </tbody>\n",
       "</table>\n",
       "</div>"
      ],
      "text/plain": [
       "     Sno        Date     Time  State  Cured  Deaths  Confirmed\n",
       "271  272  22-03-2020  6:00 PM  Bihar      0       1          2\n",
       "294  295  23-03-2020  6:00 PM  Bihar      0       1          2\n",
       "317  318  24-03-2020  6:00 PM  Bihar      0       1          3\n",
       "341  342  25-03-2020  6:00 PM  Bihar      0       1          4\n",
       "367  368  26-03-2020  6:00 PM  Bihar      0       1          6"
      ]
     },
     "execution_count": 27,
     "metadata": {},
     "output_type": "execute_result"
    }
   ],
   "source": [
    "bihar.head()"
   ]
  },
  {
   "cell_type": "code",
   "execution_count": 22,
   "id": "0a888293",
   "metadata": {},
   "outputs": [
    {
     "data": {
      "image/png": "[encoded data removed]",
      "text/plain": [
       "<Figure size 360x360 with 1 Axes>"
      ]
     },
     "metadata": {
      "needs_background": "light"
     },
     "output_type": "display_data"
    }
   ],
   "source": [
    "g = sns.relplot(x='Date',y='Confirmed',kind='line',data = bihar)\n",
    "plt.title('No of Confirmed Cases vs Date')"
   ]
  },
  {
   "cell_type": "code",
   "execution_count": 23,
   "id": "ef6161a7",
   "metadata": {},
   "outputs": [
    {
     "data": {
      "image/png": "[encoded data removed]",
      "text/plain": [
       "<Figure size 360x360 with 1 Axes>"
      ]
     },
     "metadata": {
      "needs_background": "light"
     },
     "output_type": "display_data"
    }
   ],
   "source": [
    "g = sns.relplot(x='Date',y='Cured',kind='line',data = bihar)\n",
    "plt.title('No of Cured Patient vs Date')"
   ]
  },
  {
   "cell_type": "code",
   "execution_count": 15,
   "id": "cc519d69",
   "metadata": {},
   "outputs": [
    {
     "data": {
      "image/png": "[encoded data removed]",
      "text/plain": [
       "<Figure size 360x360 with 1 Axes>"
      ]
     },
     "metadata": {
      "needs_background": "light"
     },
     "output_type": "display_data"
    }
   ],
   "source": [
    "g = sns.relplot(x='Date',y='Deaths',kind='line',data = bihar)\n",
    "plt.title('No of Deaths vs Date')"
   ]
  },
  {
   "cell_type": "markdown",
   "id": "1ac24615",
   "metadata": {},
   "source": [
    "# KERALA"
   ]
  },
  {
   "cell_type": "code",
   "execution_count": 30,
   "id": "d6147a90",
   "metadata": {},
   "outputs": [],
   "source": [
    "Kerala = df.query('State == \"Kerala\"')"
   ]
  },
  {
   "cell_type": "code",
   "execution_count": 31,
   "id": "a3c7d58a",
   "metadata": {},
   "outputs": [
    {
     "data": {
      "text/html": [
       "<div>\n",
       "<style scoped>\n",
       "    .dataframe tbody tr th:only-of-type {\n",
       "        vertical-align: middle;\n",
       "    }\n",
       "\n",
       "    .dataframe tbody tr th {\n",
       "        vertical-align: top;\n",
       "    }\n",
       "\n",
       "    .dataframe thead th {\n",
       "        text-align: right;\n",
       "    }\n",
       "</style>\n",
       "<table border=\"1\" class=\"dataframe\">\n",
       "  <thead>\n",
       "    <tr style=\"text-align: right;\">\n",
       "      <th></th>\n",
       "      <th>Sno</th>\n",
       "      <th>Date</th>\n",
       "      <th>Time</th>\n",
       "      <th>State</th>\n",
       "      <th>Cured</th>\n",
       "      <th>Deaths</th>\n",
       "      <th>Confirmed</th>\n",
       "    </tr>\n",
       "  </thead>\n",
       "  <tbody>\n",
       "    <tr>\n",
       "      <th>0</th>\n",
       "      <td>1</td>\n",
       "      <td>30-01-2020</td>\n",
       "      <td>6:00 PM</td>\n",
       "      <td>Kerala</td>\n",
       "      <td>0</td>\n",
       "      <td>0</td>\n",
       "      <td>1</td>\n",
       "    </tr>\n",
       "    <tr>\n",
       "      <th>1</th>\n",
       "      <td>2</td>\n",
       "      <td>31-01-2020</td>\n",
       "      <td>6:00 PM</td>\n",
       "      <td>Kerala</td>\n",
       "      <td>0</td>\n",
       "      <td>0</td>\n",
       "      <td>1</td>\n",
       "    </tr>\n",
       "    <tr>\n",
       "      <th>2</th>\n",
       "      <td>3</td>\n",
       "      <td>01-02-2020</td>\n",
       "      <td>6:00 PM</td>\n",
       "      <td>Kerala</td>\n",
       "      <td>0</td>\n",
       "      <td>0</td>\n",
       "      <td>2</td>\n",
       "    </tr>\n",
       "    <tr>\n",
       "      <th>3</th>\n",
       "      <td>4</td>\n",
       "      <td>02-02-2020</td>\n",
       "      <td>6:00 PM</td>\n",
       "      <td>Kerala</td>\n",
       "      <td>0</td>\n",
       "      <td>0</td>\n",
       "      <td>3</td>\n",
       "    </tr>\n",
       "    <tr>\n",
       "      <th>4</th>\n",
       "      <td>5</td>\n",
       "      <td>03-02-2020</td>\n",
       "      <td>6:00 PM</td>\n",
       "      <td>Kerala</td>\n",
       "      <td>0</td>\n",
       "      <td>0</td>\n",
       "      <td>3</td>\n",
       "    </tr>\n",
       "  </tbody>\n",
       "</table>\n",
       "</div>"
      ],
      "text/plain": [
       "   Sno        Date     Time   State  Cured  Deaths  Confirmed\n",
       "0    1  30-01-2020  6:00 PM  Kerala      0       0          1\n",
       "1    2  31-01-2020  6:00 PM  Kerala      0       0          1\n",
       "2    3  01-02-2020  6:00 PM  Kerala      0       0          2\n",
       "3    4  02-02-2020  6:00 PM  Kerala      0       0          3\n",
       "4    5  03-02-2020  6:00 PM  Kerala      0       0          3"
      ]
     },
     "execution_count": 31,
     "metadata": {},
     "output_type": "execute_result"
    }
   ],
   "source": [
    "Kerala.head()"
   ]
  },
  {
   "cell_type": "code",
   "execution_count": 36,
   "id": "0e51acf7",
   "metadata": {},
   "outputs": [
    {
     "data": {
      "text/plain": [
       "Text(0.5, 1.0, 'No of Confirmed Cases vs Date')"
      ]
     },
     "execution_count": 36,
     "metadata": {},
     "output_type": "execute_result"
    },
    {
     "data": {
      "image/png": "[encoded data removed]",
      "text/plain": [
       "<Figure size 360x360 with 1 Axes>"
      ]
     },
     "metadata": {
      "needs_background": "light"
     },
     "output_type": "display_data"
    }
   ],
   "source": [
    "g = sns.relplot(x='Date',y='Confirmed',kind='line',data = Kerala)\n",
    "plt.title('No of Confirmed Cases vs Date')"
   ]
  },
  {
   "cell_type": "code",
   "execution_count": 37,
   "id": "d86df8ef",
   "metadata": {},
   "outputs": [
    {
     "data": {
      "text/plain": [
       "Text(0.5, 1.0, 'No of Cured Patient vs Date')"
      ]
     },
     "execution_count": 37,
     "metadata": {},
     "output_type": "execute_result"
    },
    {
     "data": {
      "image/png": "[encoded data removed]",
      "text/plain": [
       "<Figure size 360x360 with 1 Axes>"
      ]
     },
     "metadata": {
      "needs_background": "light"
     },
     "output_type": "display_data"
    }
   ],
   "source": [
    "g = sns.relplot(x='Date',y='Cured',kind='line',data = Kerala)\n",
    "plt.title('No of Cured Patient vs Date')"
   ]
  },
  {
   "cell_type": "code",
   "execution_count": 38,
   "id": "5c8a5694",
   "metadata": {},
   "outputs": [
    {
     "data": {
      "text/plain": [
       "Text(0.5, 1.0, 'No of Deaths vs Date')"
      ]
     },
     "execution_count": 38,
     "metadata": {},
     "output_type": "execute_result"
    },
    {
     "data": {
      "image/png": "[encoded data removed]",
      "text/plain": [
       "<Figure size 360x360 with 1 Axes>"
      ]
     },
     "metadata": {
      "needs_background": "light"
     },
     "output_type": "display_data"
    }
   ],
   "source": [
    "g = sns.relplot(x='Date',y='Deaths',kind='line',data = Kerala)\n",
    "plt.title('No of Deaths vs Date')"
   ]
  },
  {
   "cell_type": "markdown",
   "id": "8438d9c8",
   "metadata": {},
   "source": [
    "# Maharastra"
   ]
  },
  {
   "cell_type": "code",
   "execution_count": 39,
   "id": "64cbaf52",
   "metadata": {},
   "outputs": [],
   "source": [
    "Maharashtra = df.query('State == \"Maharashtra\"')"
   ]
  },
  {
   "cell_type": "code",
   "execution_count": 40,
   "id": "ef56eb25",
   "metadata": {},
   "outputs": [
    {
     "data": {
      "text/html": [
       "<div>\n",
       "<style scoped>\n",
       "    .dataframe tbody tr th:only-of-type {\n",
       "        vertical-align: middle;\n",
       "    }\n",
       "\n",
       "    .dataframe tbody tr th {\n",
       "        vertical-align: top;\n",
       "    }\n",
       "\n",
       "    .dataframe thead th {\n",
       "        text-align: right;\n",
       "    }\n",
       "</style>\n",
       "<table border=\"1\" class=\"dataframe\">\n",
       "  <thead>\n",
       "    <tr style=\"text-align: right;\">\n",
       "      <th></th>\n",
       "      <th>Sno</th>\n",
       "      <th>Date</th>\n",
       "      <th>Time</th>\n",
       "      <th>State</th>\n",
       "      <th>Cured</th>\n",
       "      <th>Deaths</th>\n",
       "      <th>Confirmed</th>\n",
       "    </tr>\n",
       "  </thead>\n",
       "  <tbody>\n",
       "    <tr>\n",
       "      <th>76</th>\n",
       "      <td>77</td>\n",
       "      <td>09-03-2020</td>\n",
       "      <td>6:00 PM</td>\n",
       "      <td>Maharashtra</td>\n",
       "      <td>0</td>\n",
       "      <td>0</td>\n",
       "      <td>2</td>\n",
       "    </tr>\n",
       "    <tr>\n",
       "      <th>91</th>\n",
       "      <td>92</td>\n",
       "      <td>10-03-2020</td>\n",
       "      <td>6:00 PM</td>\n",
       "      <td>Maharashtra</td>\n",
       "      <td>0</td>\n",
       "      <td>0</td>\n",
       "      <td>5</td>\n",
       "    </tr>\n",
       "    <tr>\n",
       "      <th>97</th>\n",
       "      <td>98</td>\n",
       "      <td>11-03-2020</td>\n",
       "      <td>6:00 PM</td>\n",
       "      <td>Maharashtra</td>\n",
       "      <td>0</td>\n",
       "      <td>0</td>\n",
       "      <td>2</td>\n",
       "    </tr>\n",
       "    <tr>\n",
       "      <th>120</th>\n",
       "      <td>121</td>\n",
       "      <td>12-03-2020</td>\n",
       "      <td>6:00 PM</td>\n",
       "      <td>Maharashtra</td>\n",
       "      <td>0</td>\n",
       "      <td>0</td>\n",
       "      <td>11</td>\n",
       "    </tr>\n",
       "    <tr>\n",
       "      <th>133</th>\n",
       "      <td>134</td>\n",
       "      <td>13-03-2020</td>\n",
       "      <td>6:00 PM</td>\n",
       "      <td>Maharashtra</td>\n",
       "      <td>0</td>\n",
       "      <td>0</td>\n",
       "      <td>14</td>\n",
       "    </tr>\n",
       "  </tbody>\n",
       "</table>\n",
       "</div>"
      ],
      "text/plain": [
       "     Sno        Date     Time        State  Cured  Deaths  Confirmed\n",
       "76    77  09-03-2020  6:00 PM  Maharashtra      0       0          2\n",
       "91    92  10-03-2020  6:00 PM  Maharashtra      0       0          5\n",
       "97    98  11-03-2020  6:00 PM  Maharashtra      0       0          2\n",
       "120  121  12-03-2020  6:00 PM  Maharashtra      0       0         11\n",
       "133  134  13-03-2020  6:00 PM  Maharashtra      0       0         14"
      ]
     },
     "execution_count": 40,
     "metadata": {},
     "output_type": "execute_result"
    }
   ],
   "source": [
    "Maharashtra.head()"
   ]
  },
  {
   "cell_type": "code",
   "execution_count": 41,
   "id": "b6e8e948",
   "metadata": {},
   "outputs": [
    {
     "data": {
      "text/plain": [
       "Text(0.5, 1.0, 'No of Confirmed Cases vs Date')"
      ]
     },
     "execution_count": 41,
     "metadata": {},
     "output_type": "execute_result"
    },
    {
     "data": {
      "image/png": "[encoded data removed]",
      "text/plain": [
       "<Figure size 360x360 with 1 Axes>"
      ]
     },
     "metadata": {
      "needs_background": "light"
     },
     "output_type": "display_data"
    }
   ],
   "source": [
    "g = sns.relplot(x='Date',y='Confirmed',kind='line',data = Maharashtra)\n",
    "plt.title('No of Confirmed Cases vs Date')"
   ]
  },
  {
   "cell_type": "code",
   "execution_count": 42,
   "id": "008f8129",
   "metadata": {},
   "outputs": [
    {
     "data": {
      "text/plain": [
       "Text(0.5, 1.0, 'No of Cured Patient vs Date')"
      ]
     },
     "execution_count": 42,
     "metadata": {},
     "output_type": "execute_result"
    },
    {
     "data": {
      "image/png": "[encoded data removed]",
      "text/plain": [
       "<Figure size 360x360 with 1 Axes>"
      ]
     },
     "metadata": {
      "needs_background": "light"
     },
     "output_type": "display_data"
    }
   ],
   "source": [
    "g = sns.relplot(x='Date',y='Cured',kind='line',data = Maharashtra)\n",
    "plt.title('No of Cured Patient vs Date')"
   ]
  },
  {
   "cell_type": "code",
   "execution_count": 43,
   "id": "e897e038",
   "metadata": {},
   "outputs": [
    {
     "data": {
      "text/plain": [
       "Text(0.5, 1.0, 'No of Deaths vs Date')"
      ]
     },
     "execution_count": 43,
     "metadata": {},
     "output_type": "execute_result"
    },
    {
     "data": {
      "image/png": "[encoded data removed]",
      "text/plain": [
       "<Figure size 360x360 with 1 Axes>"
      ]
     },
     "metadata": {
      "needs_background": "light"
     },
     "output_type": "display_data"
    }
   ],
   "source": [
    "g = sns.relplot(x='Date',y='Deaths',kind='line',data = Maharashtra)\n",
    "plt.title('No of Deaths vs Date')"
   ]
  },
  {
   "cell_type": "markdown",
   "id": "b58760be",
   "metadata": {},
   "source": [
    "# Chattisgarh"
   ]
  },
  {
   "cell_type": "code",
   "execution_count": 47,
   "id": "da6f5f81",
   "metadata": {},
   "outputs": [],
   "source": [
    "Chhattisgarh = df.query('State == \"Chhattisgarh\"')"
   ]
  },
  {
   "cell_type": "code",
   "execution_count": 48,
   "id": "ea6b5a1c",
   "metadata": {},
   "outputs": [
    {
     "data": {
      "text/html": [
       "<div>\n",
       "<style scoped>\n",
       "    .dataframe tbody tr th:only-of-type {\n",
       "        vertical-align: middle;\n",
       "    }\n",
       "\n",
       "    .dataframe tbody tr th {\n",
       "        vertical-align: top;\n",
       "    }\n",
       "\n",
       "    .dataframe thead th {\n",
       "        text-align: right;\n",
       "    }\n",
       "</style>\n",
       "<table border=\"1\" class=\"dataframe\">\n",
       "  <thead>\n",
       "    <tr style=\"text-align: right;\">\n",
       "      <th></th>\n",
       "      <th>Sno</th>\n",
       "      <th>Date</th>\n",
       "      <th>Time</th>\n",
       "      <th>State</th>\n",
       "      <th>Cured</th>\n",
       "      <th>Deaths</th>\n",
       "      <th>Confirmed</th>\n",
       "    </tr>\n",
       "  </thead>\n",
       "  <tbody>\n",
       "    <tr>\n",
       "      <th>210</th>\n",
       "      <td>211</td>\n",
       "      <td>19-03-2020</td>\n",
       "      <td>6:00 PM</td>\n",
       "      <td>Chhattisgarh</td>\n",
       "      <td>0</td>\n",
       "      <td>0</td>\n",
       "      <td>1</td>\n",
       "    </tr>\n",
       "    <tr>\n",
       "      <th>229</th>\n",
       "      <td>230</td>\n",
       "      <td>20-03-2020</td>\n",
       "      <td>6:00 PM</td>\n",
       "      <td>Chhattisgarh</td>\n",
       "      <td>0</td>\n",
       "      <td>0</td>\n",
       "      <td>1</td>\n",
       "    </tr>\n",
       "    <tr>\n",
       "      <th>249</th>\n",
       "      <td>250</td>\n",
       "      <td>21-03-2020</td>\n",
       "      <td>6:00 PM</td>\n",
       "      <td>Chhattisgarh</td>\n",
       "      <td>0</td>\n",
       "      <td>0</td>\n",
       "      <td>1</td>\n",
       "    </tr>\n",
       "    <tr>\n",
       "      <th>272</th>\n",
       "      <td>273</td>\n",
       "      <td>22-03-2020</td>\n",
       "      <td>6:00 PM</td>\n",
       "      <td>Chhattisgarh</td>\n",
       "      <td>0</td>\n",
       "      <td>0</td>\n",
       "      <td>1</td>\n",
       "    </tr>\n",
       "    <tr>\n",
       "      <th>295</th>\n",
       "      <td>296</td>\n",
       "      <td>23-03-2020</td>\n",
       "      <td>6:00 PM</td>\n",
       "      <td>Chhattisgarh</td>\n",
       "      <td>0</td>\n",
       "      <td>0</td>\n",
       "      <td>1</td>\n",
       "    </tr>\n",
       "  </tbody>\n",
       "</table>\n",
       "</div>"
      ],
      "text/plain": [
       "     Sno        Date     Time         State  Cured  Deaths  Confirmed\n",
       "210  211  19-03-2020  6:00 PM  Chhattisgarh      0       0          1\n",
       "229  230  20-03-2020  6:00 PM  Chhattisgarh      0       0          1\n",
       "249  250  21-03-2020  6:00 PM  Chhattisgarh      0       0          1\n",
       "272  273  22-03-2020  6:00 PM  Chhattisgarh      0       0          1\n",
       "295  296  23-03-2020  6:00 PM  Chhattisgarh      0       0          1"
      ]
     },
     "execution_count": 48,
     "metadata": {},
     "output_type": "execute_result"
    }
   ],
   "source": [
    "Chhattisgarh.head()"
   ]
  },
  {
   "cell_type": "code",
   "execution_count": 49,
   "id": "d44ab8dc",
   "metadata": {},
   "outputs": [
    {
     "data": {
      "text/plain": [
       "Text(0.5, 1.0, 'No of Confirmed Cases vs Date')"
      ]
     },
     "execution_count": 49,
     "metadata": {},
     "output_type": "execute_result"
    },
    {
     "data": {
      "image/png": "[encoded data removed]",
      "text/plain": [
       "<Figure size 360x360 with 1 Axes>"
      ]
     },
     "metadata": {
      "needs_background": "light"
     },
     "output_type": "display_data"
    }
   ],
   "source": [
    "g = sns.relplot(x='Date',y='Confirmed',kind='line',data = Chhattisgarh)\n",
    "plt.title('No of Confirmed Cases vs Date')"
   ]
  },
  {
   "cell_type": "code",
   "execution_count": 50,
   "id": "137ab369",
   "metadata": {},
   "outputs": [
    {
     "data": {
      "text/plain": [
       "Text(0.5, 1.0, 'No of Cured Patient vs Date')"
      ]
     },
     "execution_count": 50,
     "metadata": {},
     "output_type": "execute_result"
    },
    {
     "data": {
      "image/png": "[encoded data removed]",
      "text/plain": [
       "<Figure size 360x360 with 1 Axes>"
      ]
     },
     "metadata": {
      "needs_background": "light"
     },
     "output_type": "display_data"
    }
   ],
   "source": [
    "g = sns.relplot(x='Date',y='Cured',kind='line',data = Chhattisgarh)\n",
    "plt.title('No of Cured Patient vs Date')"
   ]
  },
  {
   "cell_type": "code",
   "execution_count": 51,
   "id": "159b8fbb",
   "metadata": {},
   "outputs": [
    {
     "data": {
      "text/plain": [
       "Text(0.5, 1.0, 'No of Deaths vs Date')"
      ]
     },
     "execution_count": 51,
     "metadata": {},
     "output_type": "execute_result"
    },
    {
     "data": {
      "image/png": "[encoded data removed]",
      "text/plain": [
       "<Figure size 360x360 with 1 Axes>"
      ]
     },
     "metadata": {
      "needs_background": "light"
     },
     "output_type": "display_data"
    }
   ],
   "source": [
    "g = sns.relplot(x='Date',y='Deaths',kind='line',data = Chhattisgarh)\n",
    "plt.title('No of Deaths vs Date')"
   ]
  },
  {
   "cell_type": "code",
   "execution_count": null,
   "id": "2285f824",
   "metadata": {},
   "outputs": [],
   "source": []
  }
 ],
 "metadata": {
  "kernelspec": {
   "display_name": "Python 3 (ipykernel)",
   "language": "python",
   "name": "python3"
  },
  "language_info": {
   "codemirror_mode": {
    "name": "ipython",
    "version": 3
   },
   "file_extension": ".py",
   "mimetype": "text/x-python",
   "name": "python",
   "nbconvert_exporter": "python",
   "pygments_lexer": "ipython3",
   "version": "3.9.7"
  }
 },
 "nbformat": 4,
 "nbformat_minor": 5
}
